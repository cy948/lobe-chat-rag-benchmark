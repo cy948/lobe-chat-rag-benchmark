{
 "cells": [
  {
   "cell_type": "markdown",
   "metadata": {},
   "source": [
    "# Benchmark for LobeChat RAG pipeline"
   ]
  },
  {
   "cell_type": "markdown",
   "metadata": {},
   "source": [
    "## Dataset construction\n",
    "\n",
    "### Data structure\n",
    "\n",
    "Details of Question, Contexts, Answers and Ground Truth: [Data preparation | Ragas.io](https://docs.ragas.io/en/latest/howtos/applications/data_preparation.html)\n",
    "\n",
    "```python\n",
    "data_samples = {\n",
    "    'question': ['When was the first super bowl?', 'Who won the most super bowls?'],\n",
    "    'answer': ['The first superbowl was held on January 15, 1967', 'The most super bowls have been won by The New England Patriots'],\n",
    "    'contexts' : [['The Super Bowl....season since 1966,','replacing the NFL...in February.'], \n",
    "    ['The Green Bay Packers...Green Bay, Wisconsin.','The Packers compete...Football Conference']],\n",
    "    'ground_truth': ['The first superbowl was held on January 15, 1967', 'The New England Patriots have won the Super Bowl a record six times']\n",
    "}\n",
    "```"
   ]
  },
  {
   "cell_type": "markdown",
   "metadata": {},
   "source": [
    "\n",
    "## Evaluating metric\n",
    "\n",
    "\n",
    "## Preparation"
   ]
  },
  {
   "cell_type": "code",
   "execution_count": 13,
   "metadata": {},
   "outputs": [],
   "source": [
    "import os\n",
    "os.environ[\"OPENAI_API_KEY\"] = \"sk-7TFc16UfNtTZpxi60aDb41Fc1e55491483DcF35144C3A452\"\n",
    "os.environ[\"OPENAI_BASE_URL\"] = \"https://api.holdai.top/v1\""
   ]
  },
  {
   "cell_type": "markdown",
   "metadata": {},
   "source": [
    "## Loading dataset from LobeChat RAG pipeline\n",
    "\n",
    "[Building HF Dataset with own data](https://docs.ragas.io/en/latest/howtos/applications/data_preparation.html)"
   ]
  },
  {
   "cell_type": "code",
   "execution_count": 14,
   "metadata": {},
   "outputs": [],
   "source": [
    "\n",
    "from datasets import Dataset \n",
    "import jsonlines\n",
    "\n",
    "data_samples = {\n",
    "    'question': [],\n",
    "    'contexts': [],\n",
    "    'ground_truth': [],\n",
    "    'answer': [],\n",
    "}\n",
    "\n",
    "with jsonlines.open('output.jsonl', 'r') as reader:\n",
    "    for obj in reader:\n",
    "        data_samples['question'].append(obj['question'])\n",
    "        data_samples['contexts'].append(obj['context'])\n",
    "        data_samples['ground_truth'].append(obj['ground_truth'])\n",
    "        data_samples['answer'].append(obj['answer'])\n",
    "\n",
    "dataset = Dataset.from_dict(data_samples)"
   ]
  },
  {
   "cell_type": "markdown",
   "metadata": {},
   "source": [
    "## Select metrics\n",
    "\n",
    "[Full metrics](https://docs.ragas.io/en/latest/concepts/metrics/index.html)"
   ]
  },
  {
   "cell_type": "code",
   "execution_count": 15,
   "metadata": {},
   "outputs": [],
   "source": [
    "from ragas.metrics import (\n",
    "    context_recall,\n",
    ")"
   ]
  },
  {
   "cell_type": "markdown",
   "metadata": {},
   "source": [
    "## Evaluation"
   ]
  },
  {
   "cell_type": "code",
   "execution_count": 16,
   "metadata": {},
   "outputs": [
    {
     "name": "stderr",
     "output_type": "stream",
     "text": [
      "Evaluating: 100%|██████████| 10/10 [00:19<00:00,  1.95s/it]\n"
     ]
    },
    {
     "data": {
      "text/plain": [
       "{'context_recall': 0.8667}"
      ]
     },
     "execution_count": 16,
     "metadata": {},
     "output_type": "execute_result"
    }
   ],
   "source": [
    "from ragas import evaluate\n",
    "\n",
    "result = evaluate(\n",
    "    dataset,\n",
    "    metrics=[\n",
    "        context_recall,\n",
    "    ],\n",
    ")\n",
    "result"
   ]
  }
 ],
 "metadata": {
  "kernelspec": {
   "display_name": "lawgpt",
   "language": "python",
   "name": "python3"
  },
  "language_info": {
   "codemirror_mode": {
    "name": "ipython",
    "version": 3
   },
   "file_extension": ".py",
   "mimetype": "text/x-python",
   "name": "python",
   "nbconvert_exporter": "python",
   "pygments_lexer": "ipython3",
   "version": "3.12.4"
  }
 },
 "nbformat": 4,
 "nbformat_minor": 2
}
